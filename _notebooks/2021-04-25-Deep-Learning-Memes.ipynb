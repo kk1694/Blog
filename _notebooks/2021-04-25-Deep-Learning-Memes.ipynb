{
 "cells": [
  {
   "cell_type": "markdown",
   "id": "d3aa9c76",
   "metadata": {},
   "source": [
    "# \"Memes\"\n",
    "> \"Harvesting the best ML memes from the internet\"\n",
    "\n",
    "- toc: true\n",
    "- branch: master\n",
    "- badges: true\n",
    "- comments: true\n",
    "- categories: [deep_learning, fun]\n",
    "- image: images/dl_memes/1*cwR_ezx0jliDvVUV6yno5g.jpeg\n",
    "- hide: false\n",
    "- search_exclude: false"
   ]
  },
  {
   "cell_type": "markdown",
   "id": "78347b3c",
   "metadata": {},
   "source": [
    "# What is machine learning?"
   ]
  },
  {
   "cell_type": "markdown",
   "id": "3068c009",
   "metadata": {},
   "source": [
    "It does whatever you train it to do\n",
    "\n",
    "<img src=\"../images/dl_memes/suq6quy2wg361.jpg\" alt=\"time_travel\" width=\"300\"/>"
   ]
  },
  {
   "cell_type": "markdown",
   "id": "57bd8e29",
   "metadata": {},
   "source": [
    "You can use ML for everything\n",
    "\n",
    "<img src=\"../images/dl_memes/DwAxh8uWwAA9Q23.jpeg\" alt=\"resnet_mnist\" width=\"300\"/>"
   ]
  },
  {
   "cell_type": "markdown",
   "id": "73576afe",
   "metadata": {},
   "source": [
    "So what's deep about deep learning?\n",
    "\n",
    "<img src=\"../images/dl_memes/ECbiK0RWkAAeb89.jpeg\" alt=\"scaling\" width=\"300\"/>"
   ]
  },
  {
   "cell_type": "markdown",
   "id": "a91e9523",
   "metadata": {},
   "source": [
    "How big are these deep networks?"
   ]
  },
  {
   "cell_type": "code",
   "execution_count": 15,
   "id": "5abd9264",
   "metadata": {
    "scrolled": false
   },
   "outputs": [
    {
     "data": {
      "text/html": [
       "\n",
       "        <iframe\n",
       "            width=\"500\"\n",
       "            height=\"700\"\n",
       "            src=\"https://www.redditmedia.com/r/machinelearningmemes/comments/f4txvs/not_sure_this_meme_is_good_enough/?ref_source=embed&amp;ref=share&amp;embed=true\"\n",
       "            frameborder=\"0\"\n",
       "            allowfullscreen\n",
       "        ></iframe>\n",
       "        "
      ],
      "text/plain": [
       "<IPython.lib.display.IFrame at 0x7f29f7c92c10>"
      ]
     },
     "execution_count": 15,
     "metadata": {},
     "output_type": "execute_result"
    }
   ],
   "source": [
    "#hide_input\n",
    "from IPython.display import IFrame\n",
    "\n",
    "IFrame(src='https://www.redditmedia.com/r/machinelearningmemes/comments/f4txvs/not_sure_this_meme_is_good_enough/?ref_source=embed&amp;ref=share&amp;embed=true', width=400, height=400)"
   ]
  },
  {
   "cell_type": "markdown",
   "id": "dd1c96c1",
   "metadata": {},
   "source": [
    "# Deep Learning"
   ]
  },
  {
   "cell_type": "markdown",
   "id": "30ecfd4e",
   "metadata": {},
   "source": [
    "## The old days"
   ]
  },
  {
   "cell_type": "markdown",
   "id": "ab2c7e5f",
   "metadata": {},
   "source": [
    "Not too long ago this was totally true\n",
    "\n",
    "<img src=\"../images/dl_memes/1*wUZiI2Mg2cncuMWWXIiBgQ.png\" alt=\"img\" width=\"200\"/>"
   ]
  },
  {
   "cell_type": "markdown",
   "id": "0eefc201",
   "metadata": {},
   "source": [
    "People used to be tougher\n",
    "\n",
    "<img src=\"../images/dl_memes/Es6jZCoXcAo-mm-.jpeg\" alt=\"img\" width=\"500\"/>"
   ]
  },
  {
   "cell_type": "markdown",
   "id": "f6b81447",
   "metadata": {},
   "source": [
    "There was a time for Caffee...\n",
    "\n",
    "<img src=\"../images/dl_memes/Dps5Nh5W0AApQUL.jpg\" alt=\"img\" width=\"500\"/>"
   ]
  },
  {
   "cell_type": "markdown",
   "id": "151c0d3e",
   "metadata": {},
   "source": [
    "There was a time for Tensorflow...\n",
    "\n",
    "<img src=\"../images/dl_memes/D9OAzQZW4AI1uBC.jpeg\" alt=\"img\" width=\"400\"/>"
   ]
  },
  {
   "cell_type": "markdown",
   "id": "f05d5e88",
   "metadata": {},
   "source": [
    "## Increasing Performance"
   ]
  },
  {
   "cell_type": "markdown",
   "id": "bc98de9c",
   "metadata": {},
   "source": [
    "The [bitter lesson](http://www.incompleteideas.net/IncIdeas/BitterLesson.html) is true (also, not bitter imo)\n",
    "\n",
    "<img src=\"../images/dl_memes/EvhGWtpVEAQhQpe.jpeg\" alt=\"img\" width=\"500\"/>"
   ]
  },
  {
   "cell_type": "markdown",
   "id": "a5a5b11c",
   "metadata": {},
   "source": [
    "Also, try on transfer learning:\n",
    "\n",
    "<img src=\"../images/dl_memes/wjp390vnkxs41.jpg\" alt=\"img\" width=\"300\"/>"
   ]
  },
  {
   "cell_type": "markdown",
   "id": "3a98dfd8",
   "metadata": {},
   "source": [
    "If you overfit, add regularization\n",
    "\n",
    "<img src=\"../images/dl_memes/aayfcawl8y541.jpg\" alt=\"img\" width=\"300\"/>"
   ]
  },
  {
   "cell_type": "markdown",
   "id": "bbeb1b85",
   "metadata": {},
   "source": [
    "Try different hyper-parameters. Sometimes you hit the jackpot\n",
    "\n",
    "<img src=\"../images/dl_memes/hyperparam.jpeg\" alt=\"img\" width=\"300\"/>"
   ]
  },
  {
   "cell_type": "markdown",
   "id": "606fa257",
   "metadata": {},
   "source": [
    "Sometimes you don't hit the jackpot\n",
    "\n",
    "<img src=\"../images/dl_memes/D-e_e4kX4AADNyI.jpeg\" alt=\"img\" width=\"300\"/>"
   ]
  },
  {
   "cell_type": "markdown",
   "id": "e3010a68",
   "metadata": {},
   "source": [
    "If nothing else works\n",
    "\n",
    "<img src=\"../images/dl_memes/Exh1b0kW8AMrw76.jpeg\" alt=\"img\" width=\"300\"/>"
   ]
  },
  {
   "cell_type": "markdown",
   "id": "76221304",
   "metadata": {},
   "source": [
    "## Debugging Models"
   ]
  },
  {
   "cell_type": "markdown",
   "id": "db5b5cd5",
   "metadata": {},
   "source": [
    "Finding bugs in DL is hard\n",
    "\n",
    "<img src=\"../images/dl_memes/EGQar_XWsAEhjcT.jpeg\" alt=\"img\" width=\"400\"/>"
   ]
  },
  {
   "cell_type": "markdown",
   "id": "ac8ac215",
   "metadata": {},
   "source": [
    "You don't know what went wrong, the answer is just bad\n",
    "\n",
    "<img src=\"../images/dl_memes/D_19LeGWwAIJeVZ.jpeg\" alt=\"img\" width=\"400\"/>\n"
   ]
  },
  {
   "cell_type": "markdown",
   "id": "0d847c07",
   "metadata": {},
   "source": [
    "## DL Research"
   ]
  },
  {
   "cell_type": "markdown",
   "id": "523c7d89",
   "metadata": {},
   "source": [
    "We still don't really understand many elements of deep learning\n",
    "\n",
    "<img src=\"../images/dl_memes/DwQgIM5XgAAUCIL.jpeg\" alt=\"img\" width=\"400\"/>"
   ]
  },
  {
   "cell_type": "markdown",
   "id": "70477828",
   "metadata": {},
   "source": [
    "For example, we know Batchnorm is helpful in many situations, but the explanation for why keeps changing\n",
    "\n",
    "<img src=\"../images/dl_memes/DyjZqrGXcAAx5xb.jpeg\" alt=\"img\" width=\"300\"/>"
   ]
  },
  {
   "cell_type": "markdown",
   "id": "4e5e8376",
   "metadata": {},
   "source": [
    "If you're in RL...\n",
    "\n",
    "<img src=\"../images/dl_memes/EB8WmaOWsAA5J1G.jpeg\" alt=\"img\" width=\"400\"/>"
   ]
  },
  {
   "cell_type": "markdown",
   "id": "666f0192",
   "metadata": {},
   "source": [
    "Let's make things simpler to understand (unlike how `f(x) = max(x, 0)` became \"rectified linear unit\")\n",
    "\n",
    "<img src=\"../images/dl_memes/Ey6SkRFWQAA9Nhe.jpeg\" alt=\"img\" width=\"400\"/>"
   ]
  },
  {
   "cell_type": "markdown",
   "id": "153034ee",
   "metadata": {},
   "source": [
    "## Research into Production"
   ]
  },
  {
   "cell_type": "markdown",
   "id": "963ccda8",
   "metadata": {},
   "source": [
    "Bringing research into production\n",
    "\n",
    "<img src=\"../images/dl_memes/D-bXLkoX4AAFrho.jpeg\" alt=\"img\" width=\"300\"/>"
   ]
  },
  {
   "cell_type": "markdown",
   "id": "c7626d30",
   "metadata": {},
   "source": [
    "More on \"cutting-edge\" research\n",
    "\n",
    "<img src=\"../images/dl_memes/Dfz-0fSW0AAi08q.jpeg\" alt=\"img\" width=\"400\"/>"
   ]
  },
  {
   "cell_type": "markdown",
   "id": "d0c9e215",
   "metadata": {},
   "source": [
    "Implementing your own version is also tricky\n",
    "\n",
    "<img src=\"../images/dl_memes/DmQWI6sWsAECPa3.jpg\" alt=\"img\" width=\"400\"/>"
   ]
  },
  {
   "cell_type": "markdown",
   "id": "c32b2069",
   "metadata": {},
   "source": [
    "When you consider not just the model, but the whole ML pipeline, things go wrong:\n",
    "\n",
    "> twitter: https://twitter.com/ai_memes/status/1382374419666976771"
   ]
  },
  {
   "cell_type": "markdown",
   "id": "09fd8b0f",
   "metadata": {},
   "source": [
    "## The underlying data"
   ]
  },
  {
   "cell_type": "markdown",
   "id": "8bb5b39c",
   "metadata": {},
   "source": [
    "Totally underappreciated: curating your own dataset.\n",
    "\n",
    "<img src=\"../images/dl_memes/EAfGZ-IW4AANB_D.png\" alt=\"img\" width=\"400\"/>"
   ]
  },
  {
   "cell_type": "markdown",
   "id": "ba5c7687",
   "metadata": {},
   "source": [
    "Yepp, someone labelled those datasets\n",
    "\n",
    "<img src=\"../images/dl_memes/ECgtXpIX4AAyoTG.jpeg\" alt=\"img\" width=\"400\"/>\n"
   ]
  },
  {
   "cell_type": "markdown",
   "id": "af21e58d",
   "metadata": {},
   "source": [
    "## Infrastructure"
   ]
  },
  {
   "cell_type": "markdown",
   "id": "b2bdcb53",
   "metadata": {},
   "source": [
    "Sklearn still has its uses\n",
    "\n",
    "<img src=\"../images/dl_memes/EIqwWwsX0AAeh-o.jpeg\" alt=\"img\" width=\"600\"/>"
   ]
  },
  {
   "cell_type": "markdown",
   "id": "897922df",
   "metadata": {},
   "source": [
    "Colab is actually quite awesome\n",
    "\n",
    "<img src=\"../images/dl_memes/Dtz9vjRXQAAIQ2S.jpeg\" alt=\"img\" width=\"400\"/>"
   ]
  },
  {
   "cell_type": "markdown",
   "id": "4fa69b1d",
   "metadata": {},
   "source": [
    "# Sofwater Engineering"
   ]
  },
  {
   "cell_type": "markdown",
   "id": "45fcea4a",
   "metadata": {},
   "source": [
    "I often go back and forth\n",
    "\n",
    "<img src=\"../images/dl_memes/Em72CtwW8AIFCxd.jpeg\" alt=\"img\" width=\"400\"/>"
   ]
  },
  {
   "cell_type": "markdown",
   "id": "ecd54770",
   "metadata": {},
   "source": [
    "I can relate to both\n",
    "\n",
    "<img src=\"../images/dl_memes/ExaerdPWYAwlt3a.jpeg\" alt=\"img\" width=\"400\"/>"
   ]
  },
  {
   "cell_type": "markdown",
   "id": "b3e504e1",
   "metadata": {},
   "source": [
    "Some things never change\n",
    "\n",
    "<img src=\"../images/dl_memes/EyPrZ7kW8AEuwg6.png\" alt=\"img\" width=\"400\"/>\n"
   ]
  },
  {
   "cell_type": "markdown",
   "id": "647d8095",
   "metadata": {},
   "source": [
    "True, not just in deep learning\n",
    "\n",
    "<img src=\"../images/dl_memes/Eh86sXJWAAENleh.jpeg\" alt=\"img\" width=\"400\"/>\n"
   ]
  },
  {
   "cell_type": "markdown",
   "id": "95932259",
   "metadata": {},
   "source": [
    "The difference often matters\n",
    "\n",
    "<img src=\"../images/dl_memes/coding-meme-automotive-exterior-a-0-vs-null.jpeg\" alt=\"img\" width=\"400\"/>\n"
   ]
  },
  {
   "cell_type": "markdown",
   "id": "1c0d5cb7",
   "metadata": {},
   "source": [
    "Things look tidy until you look under the hood\n",
    "\n",
    "<img src=\"../images/dl_memes/Front-End-vs-Back-End-1024x1022.jpg\" alt=\"img\" width=\"400\"/>\n"
   ]
  },
  {
   "cell_type": "markdown",
   "id": "102199d4",
   "metadata": {},
   "source": [
    "Well, I do like my own implementation of everything..."
   ]
  },
  {
   "cell_type": "markdown",
   "id": "fae763f4",
   "metadata": {},
   "source": [
    "<img src=\"../images/dl_memes/0_fuObAMZLpy-ot6Kv.png\" alt=\"img\" width=\"400\"/>"
   ]
  },
  {
   "cell_type": "markdown",
   "id": "69ad1248",
   "metadata": {},
   "source": [
    "## Data Science and Statistics"
   ]
  },
  {
   "cell_type": "markdown",
   "id": "2570ad52",
   "metadata": {},
   "source": [
    "<img src=\"../images/dl_memes/0*N-mItgNojajKwr7H.jpg\" alt=\"img\" width=\"500\"/>"
   ]
  },
  {
   "cell_type": "markdown",
   "id": "83883c8c",
   "metadata": {},
   "source": [
    "What is a \"data scientist\"?\n",
    "\n",
    "<img src=\"../images/dl_memes/D4TP-etW4AA5pHj.jpeg\" alt=\"img\" width=\"400\"/>"
   ]
  },
  {
   "cell_type": "markdown",
   "id": "bd6c4ff2",
   "metadata": {},
   "source": [
    "\"Rigorous statistics\"\n",
    "\n",
    "<img src=\"../images/dl_memes/EHBVhwDWsAEXeaH.jpeg\" alt=\"img\" width=\"400\"/>"
   ]
  },
  {
   "cell_type": "markdown",
   "id": "f5fbf401",
   "metadata": {},
   "source": [
    "Precision vs recall\n",
    "\n",
    "<img src=\"../images/dl_memes/EzL52KhVgAEfPFR.jpeg\" alt=\"img\" width=\"400\"/>"
   ]
  },
  {
   "cell_type": "markdown",
   "id": "17ccd22c",
   "metadata": {},
   "source": [
    "Okay, this is pure math, but still good\n",
    "\n",
    "<img src=\"../images/dl_memes/EysSvxqXEAUKyVP.jpeg\" alt=\"img\" width=\"400\"/>"
   ]
  },
  {
   "cell_type": "markdown",
   "id": "7894a06a",
   "metadata": {},
   "source": [
    "# AI in the world\n",
    "> Since we need a broader impact section."
   ]
  },
  {
   "cell_type": "markdown",
   "id": "b15da3d4",
   "metadata": {},
   "source": [
    "How to impress people with AI\n",
    "\n",
    "<img src=\"../images/dl_memes/1*x7P7gqjo8k2_bj2rTQWAfg.jpeg\" alt=\"img\" width=\"400\"/>"
   ]
  },
  {
   "cell_type": "markdown",
   "id": "c2315760",
   "metadata": {},
   "source": [
    "Lots of appetite for AI startups:\n",
    "\n",
    "> twitter: https://twitter.com/ai_memes/status/1156198459382423552"
   ]
  },
  {
   "cell_type": "code",
   "execution_count": null,
   "id": "933471b8",
   "metadata": {},
   "outputs": [],
   "source": []
  },
  {
   "cell_type": "code",
   "execution_count": null,
   "id": "c42e451d",
   "metadata": {},
   "outputs": [],
   "source": []
  },
  {
   "cell_type": "code",
   "execution_count": null,
   "id": "3d1aabca",
   "metadata": {},
   "outputs": [],
   "source": []
  }
 ],
 "metadata": {
  "kernelspec": {
   "display_name": "Python 3",
   "language": "python",
   "name": "python3"
  },
  "language_info": {
   "codemirror_mode": {
    "name": "ipython",
    "version": 3
   },
   "file_extension": ".py",
   "mimetype": "text/x-python",
   "name": "python",
   "nbconvert_exporter": "python",
   "pygments_lexer": "ipython3",
   "version": "3.9.2"
  }
 },
 "nbformat": 4,
 "nbformat_minor": 5
}
